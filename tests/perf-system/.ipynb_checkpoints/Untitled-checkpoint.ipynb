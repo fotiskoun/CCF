{
 "cells": [
  {
   "cell_type": "code",
   "execution_count": 38,
   "id": "60cbd216-703c-40df-9dcb-d60cb3860385",
   "metadata": {},
   "outputs": [
    {
     "name": "stdout",
     "output_type": "stream",
     "text": [
      "total 48\n",
      "-rw-rw-r-- 1 fkounelis fkounelis 7973 Nov 18 17:50 README.md\n",
      "-rw-rw-r-- 1 fkounelis fkounelis 4308 Nov 18 19:54 Untitled.ipynb\n",
      "drwxrwxr-x 4 fkounelis fkounelis 4096 Nov 18 19:41 analyzer\n",
      "drwxrwxr-x 4 fkounelis fkounelis 4096 Nov 18 19:54 generator\n",
      "-rw-rw-r-- 1 fkounelis fkounelis 9975 Nov 18 19:53 jup.parquet\n",
      "-rw-rw-r-- 1 fkounelis fkounelis  129 Nov 18 17:50 requirements.txt\n",
      "-rwxrwxr-x 1 fkounelis fkounelis 1104 Nov 18 17:50 run-login-perf.sh\n",
      "drwxrwxr-x 2 fkounelis fkounelis 4096 Nov 18 19:54 submitter\n",
      "/home/fkounelis/CCF/tests/perf-system\n",
      "2022-11-18T19:56:11.575531Z        100 [info ] /perf-system/submitter/submit.cpp:45 | Found generator file\n",
      "2022-11-18T19:56:11.594774Z        100 [info ] /perf-system/submitter/submit.cpp:59 | Opened generator file\n",
      "2022-11-18T19:56:11.594876Z        100 [info ] perf-system/submitter/submit.cpp:230 | Start Request Submission\n",
      "2022-11-18T19:56:11.645214Z        100 [info ] perf-system/submitter/submit.cpp:292 | Finished Request Submission\n",
      "2022-11-18T19:56:11.645239Z        100 [info ] perf-system/submitter/submit.cpp:151 | Start storing results\n",
      "2022-11-18T19:56:11.645594Z        100 [info ] perf-system/submitter/submit.cpp:191 | Finished storing results\n"
     ]
    },
    {
     "data": {
      "image/png": "[encoded data removed]",
      "text/plain": [
       "<Figure size 640x480 with 1 Axes>"
      ]
     },
     "metadata": {},
     "output_type": "display_data"
    }
   ],
   "source": [
    "\n",
    "import generator.generator as g\n",
    "import analyzer.analyzer as analyzer\n",
    "import subprocess\n",
    "\n",
    "msgs = g.Messages()\n",
    "\n",
    "for i in range(50):\n",
    "    msgs.append(\n",
    "        \"127.0.0.1:8000\",\n",
    "        \"/app/log/private\",\n",
    "        \"POST\",\n",
    "        data='{\"id\": '\n",
    "        + str(i)\n",
    "        + ', \"msg\": \"Logged '\n",
    "        + str(i)\n",
    "        + ' to private table\"}',\n",
    "    )\n",
    "\n",
    "msgs.to_parquet_file(\"./generator/jup.parquet\")\n",
    "\n",
    "subprocess.run([\"ls\", \"-l\"])\n",
    "subprocess.run([\"pwd\"])\n",
    "\n",
    "\n",
    "subprocess.run([\"cd ../../build && ./submit --cert ./workspace/sandbox_common/user0_cert.pem \\\n",
    "--key ./workspace/sandbox_common/user0_privk.pem \\\n",
    "--cacert ./workspace/sandbox_common/service_cert.pem \\\n",
    "--generator-filepath ../tests/perf-system/generator/jup.parquet \\\n",
    "-s ../tests/perf-system/submitter/jup_send.parquet \\\n",
    "-r ../tests/perf-system/submitter/jup_response.parquet \\\n",
    "-m -1\"], shell=True)\n",
    "\n",
    "\n",
    "\n",
    "analysis = analyzer.Analyze()\n",
    "\n",
    "df_generator = analyzer.get_df_from_parquet_file(\n",
    "    \"./generator/jup.parquet\"\n",
    ")\n",
    "df_sends = analyzer.get_df_from_parquet_file(\"./submitter/jup_send.parquet\")\n",
    "df_responses = analyzer.get_df_from_parquet_file(\n",
    "    \"./submitter/jup_response.parquet\"\n",
    ")\n"
   ]
  }
 ],
 "metadata": {
  "kernelspec": {
   "display_name": "Python 3 (ipykernel)",
   "language": "python",
   "name": "python3"
  },
  "language_info": {
   "codemirror_mode": {
    "name": "ipython",
    "version": 3
   },
   "file_extension": ".py",
   "mimetype": "text/x-python",
   "name": "python",
   "nbconvert_exporter": "python",
   "pygments_lexer": "ipython3",
   "version": "3.8.10"
  }
 },
 "nbformat": 4,
 "nbformat_minor": 5
}
